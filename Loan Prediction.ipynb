{
 "cells": [
  {
   "cell_type": "markdown",
   "metadata": {},
   "source": [
    "### Dream Housing Finance\n",
    "Automation of Loan eligibility process based on Customers input & it's validation over the Web Application and Model Building in this regard"
   ]
  },
  {
   "cell_type": "markdown",
   "metadata": {},
   "source": [
    "- Model Building and saving the model using Pickle"
   ]
  },
  {
   "cell_type": "code",
   "execution_count": 106,
   "metadata": {},
   "outputs": [],
   "source": [
    "# 1. Import required libraries\n",
    "\n",
    "#===========Importing Classifier=========\n",
    "from sklearn.ensemble import RandomForestClassifier\n",
    "\n",
    "#==========Importing numpy for multidimensional array\n",
    "import numpy as np\n",
    "\n",
    "#=========importing matplotlib for Plotting Graph==========\n",
    "import matplotlib.pyplot as plt\n",
    "\n",
    "#=========Loadig model selection for splitting the dataset==============\n",
    "from sklearn.model_selection import train_test_split\n",
    "\n",
    "#=========Importing models for classification efficiency\n",
    "from sklearn.metrics import accuracy_score, classification_report\n",
    "\n",
    "#========Importing library for dealing with DataFrame=====\n",
    "import pandas as pd"
   ]
  },
  {
   "cell_type": "code",
   "execution_count": 107,
   "metadata": {},
   "outputs": [],
   "source": [
    "# 1b. Loading and reading the dataset\n",
    "loan = pd.read_csv('loan_approval_data.csv')"
   ]
  },
  {
   "cell_type": "code",
   "execution_count": 108,
   "metadata": {},
   "outputs": [
    {
     "data": {
      "text/html": [
       "<div>\n",
       "<style scoped>\n",
       "    .dataframe tbody tr th:only-of-type {\n",
       "        vertical-align: middle;\n",
       "    }\n",
       "\n",
       "    .dataframe tbody tr th {\n",
       "        vertical-align: top;\n",
       "    }\n",
       "\n",
       "    .dataframe thead th {\n",
       "        text-align: right;\n",
       "    }\n",
       "</style>\n",
       "<table border=\"1\" class=\"dataframe\">\n",
       "  <thead>\n",
       "    <tr style=\"text-align: right;\">\n",
       "      <th></th>\n",
       "      <th>loan_id</th>\n",
       "      <th>gender</th>\n",
       "      <th>married</th>\n",
       "      <th>dependents</th>\n",
       "      <th>education</th>\n",
       "      <th>self_employed</th>\n",
       "      <th>applicantincome</th>\n",
       "      <th>coapplicantincome</th>\n",
       "      <th>loanamount</th>\n",
       "      <th>loan_amount_term</th>\n",
       "      <th>credit_history</th>\n",
       "      <th>property_area</th>\n",
       "      <th>loan_status</th>\n",
       "    </tr>\n",
       "  </thead>\n",
       "  <tbody>\n",
       "    <tr>\n",
       "      <th>0</th>\n",
       "      <td>lp001002</td>\n",
       "      <td>male</td>\n",
       "      <td>no</td>\n",
       "      <td>0.0</td>\n",
       "      <td>graduate</td>\n",
       "      <td>no</td>\n",
       "      <td>5849</td>\n",
       "      <td>0.0</td>\n",
       "      <td>NaN</td>\n",
       "      <td>360.0</td>\n",
       "      <td>1.0</td>\n",
       "      <td>urban</td>\n",
       "      <td>y</td>\n",
       "    </tr>\n",
       "    <tr>\n",
       "      <th>1</th>\n",
       "      <td>lp001003</td>\n",
       "      <td>male</td>\n",
       "      <td>yes</td>\n",
       "      <td>1.0</td>\n",
       "      <td>graduate</td>\n",
       "      <td>no</td>\n",
       "      <td>4583</td>\n",
       "      <td>1508.0</td>\n",
       "      <td>128.0</td>\n",
       "      <td>360.0</td>\n",
       "      <td>1.0</td>\n",
       "      <td>rural</td>\n",
       "      <td>n</td>\n",
       "    </tr>\n",
       "    <tr>\n",
       "      <th>2</th>\n",
       "      <td>lp001005</td>\n",
       "      <td>male</td>\n",
       "      <td>yes</td>\n",
       "      <td>0.0</td>\n",
       "      <td>graduate</td>\n",
       "      <td>yes</td>\n",
       "      <td>3000</td>\n",
       "      <td>0.0</td>\n",
       "      <td>66.0</td>\n",
       "      <td>360.0</td>\n",
       "      <td>1.0</td>\n",
       "      <td>urban</td>\n",
       "      <td>y</td>\n",
       "    </tr>\n",
       "    <tr>\n",
       "      <th>3</th>\n",
       "      <td>lp001006</td>\n",
       "      <td>male</td>\n",
       "      <td>yes</td>\n",
       "      <td>0.0</td>\n",
       "      <td>not graduate</td>\n",
       "      <td>no</td>\n",
       "      <td>2583</td>\n",
       "      <td>2358.0</td>\n",
       "      <td>120.0</td>\n",
       "      <td>360.0</td>\n",
       "      <td>1.0</td>\n",
       "      <td>urban</td>\n",
       "      <td>y</td>\n",
       "    </tr>\n",
       "    <tr>\n",
       "      <th>4</th>\n",
       "      <td>lp001008</td>\n",
       "      <td>male</td>\n",
       "      <td>no</td>\n",
       "      <td>0.0</td>\n",
       "      <td>graduate</td>\n",
       "      <td>no</td>\n",
       "      <td>6000</td>\n",
       "      <td>0.0</td>\n",
       "      <td>141.0</td>\n",
       "      <td>360.0</td>\n",
       "      <td>1.0</td>\n",
       "      <td>urban</td>\n",
       "      <td>y</td>\n",
       "    </tr>\n",
       "  </tbody>\n",
       "</table>\n",
       "</div>"
      ],
      "text/plain": [
       "    loan_id gender married  dependents     education self_employed  \\\n",
       "0  lp001002   male      no         0.0      graduate            no   \n",
       "1  lp001003   male     yes         1.0      graduate            no   \n",
       "2  lp001005   male     yes         0.0      graduate           yes   \n",
       "3  lp001006   male     yes         0.0  not graduate            no   \n",
       "4  lp001008   male      no         0.0      graduate            no   \n",
       "\n",
       "   applicantincome  coapplicantincome  loanamount  loan_amount_term  \\\n",
       "0             5849                0.0         NaN             360.0   \n",
       "1             4583             1508.0       128.0             360.0   \n",
       "2             3000                0.0        66.0             360.0   \n",
       "3             2583             2358.0       120.0             360.0   \n",
       "4             6000                0.0       141.0             360.0   \n",
       "\n",
       "   credit_history property_area loan_status  \n",
       "0             1.0         urban           y  \n",
       "1             1.0         rural           n  \n",
       "2             1.0         urban           y  \n",
       "3             1.0         urban           y  \n",
       "4             1.0         urban           y  "
      ]
     },
     "execution_count": 108,
     "metadata": {},
     "output_type": "execute_result"
    }
   ],
   "source": [
    "# 2. Familiarizing with features of the dataset\n",
    "loan.head(5) # Display the first 5 rows of the dataset"
   ]
  },
  {
   "cell_type": "code",
   "execution_count": 109,
   "metadata": {},
   "outputs": [
    {
     "name": "stdout",
     "output_type": "stream",
     "text": [
      "No. of Rows: 614\n",
      "Shape: (614, 13)\n",
      "Info:\n",
      "<class 'pandas.core.frame.DataFrame'>\n",
      "RangeIndex: 614 entries, 0 to 613\n",
      "Data columns (total 13 columns):\n",
      " #   Column             Non-Null Count  Dtype  \n",
      "---  ------             --------------  -----  \n",
      " 0   loan_id            614 non-null    object \n",
      " 1   gender             601 non-null    object \n",
      " 2   married            611 non-null    object \n",
      " 3   dependents         599 non-null    float64\n",
      " 4   education          614 non-null    object \n",
      " 5   self_employed      582 non-null    object \n",
      " 6   applicantincome    614 non-null    int64  \n",
      " 7   coapplicantincome  614 non-null    float64\n",
      " 8   loanamount         592 non-null    float64\n",
      " 9   loan_amount_term   600 non-null    float64\n",
      " 10  credit_history     564 non-null    float64\n",
      " 11  property_area      614 non-null    object \n",
      " 12  loan_status        614 non-null    object \n",
      "dtypes: float64(5), int64(1), object(7)\n",
      "memory usage: 62.5+ KB\n"
     ]
    }
   ],
   "source": [
    "# 2a. \n",
    "print('No. of Rows:',len(loan)) # checking the number of rows in the dataset\n",
    "print('Shape:',loan.shape) # checking the shape of the dataset ie. no. of rows and columns\n",
    "print('Info:')\n",
    "loan.info() # checking the information of the dataset ie. data types, missing values etc."
   ]
  },
  {
   "cell_type": "code",
   "execution_count": 110,
   "metadata": {},
   "outputs": [
    {
     "data": {
      "text/plain": [
       "'\\nNeed to check if the dataset contain null values or not. If yes then we have to fill the null values with the mean of the column or any other method for better classification accuracy\\n\\nand \\n\\nAlso to Encode string with Numerical values such as Gender and Education and loan status etc. to achieve better classification model\\n'"
      ]
     },
     "execution_count": 110,
     "metadata": {},
     "output_type": "execute_result"
    }
   ],
   "source": [
    "\"\"\"\n",
    "Need to check if the dataset contain null values or not. If yes then we have to fill the null values with the mean of the column or any other method for better classification accuracy\n",
    "\n",
    "and \n",
    "\n",
    "Also to Encode string with Numerical values such as Gender and Education and loan status etc. to achieve better classification model\n",
    "\"\"\""
   ]
  },
  {
   "cell_type": "code",
   "execution_count": 111,
   "metadata": {},
   "outputs": [
    {
     "data": {
      "text/plain": [
       "loan_id               0\n",
       "gender               13\n",
       "married               3\n",
       "dependents           15\n",
       "education             0\n",
       "self_employed        32\n",
       "applicantincome       0\n",
       "coapplicantincome     0\n",
       "loanamount           22\n",
       "loan_amount_term     14\n",
       "credit_history       50\n",
       "property_area         0\n",
       "loan_status           0\n",
       "dtype: int64"
      ]
     },
     "execution_count": 111,
     "metadata": {},
     "output_type": "execute_result"
    }
   ],
   "source": [
    "#3. =======Checking the presence of Null Values=========\n",
    "\n",
    "#==== By use of built in Function isnull() and sum()\n",
    "\n",
    "loan.isnull().sum()"
   ]
  },
  {
   "cell_type": "code",
   "execution_count": 112,
   "metadata": {},
   "outputs": [
    {
     "data": {
      "text/html": [
       "<div>\n",
       "<style scoped>\n",
       "    .dataframe tbody tr th:only-of-type {\n",
       "        vertical-align: middle;\n",
       "    }\n",
       "\n",
       "    .dataframe tbody tr th {\n",
       "        vertical-align: top;\n",
       "    }\n",
       "\n",
       "    .dataframe thead th {\n",
       "        text-align: right;\n",
       "    }\n",
       "</style>\n",
       "<table border=\"1\" class=\"dataframe\">\n",
       "  <thead>\n",
       "    <tr style=\"text-align: right;\">\n",
       "      <th></th>\n",
       "      <th>loan_id</th>\n",
       "      <th>gender</th>\n",
       "      <th>married</th>\n",
       "      <th>dependents</th>\n",
       "      <th>education</th>\n",
       "      <th>self_employed</th>\n",
       "      <th>applicantincome</th>\n",
       "      <th>coapplicantincome</th>\n",
       "      <th>loanamount</th>\n",
       "      <th>loan_amount_term</th>\n",
       "      <th>credit_history</th>\n",
       "      <th>property_area</th>\n",
       "      <th>loan_status</th>\n",
       "    </tr>\n",
       "  </thead>\n",
       "  <tbody>\n",
       "    <tr>\n",
       "      <th>0</th>\n",
       "      <td>lp001002</td>\n",
       "      <td>male</td>\n",
       "      <td>no</td>\n",
       "      <td>0.0</td>\n",
       "      <td>graduate</td>\n",
       "      <td>no</td>\n",
       "      <td>5849</td>\n",
       "      <td>0.0</td>\n",
       "      <td>NaN</td>\n",
       "      <td>360.0</td>\n",
       "      <td>1.0</td>\n",
       "      <td>urban</td>\n",
       "      <td>y</td>\n",
       "    </tr>\n",
       "    <tr>\n",
       "      <th>1</th>\n",
       "      <td>lp001003</td>\n",
       "      <td>male</td>\n",
       "      <td>yes</td>\n",
       "      <td>1.0</td>\n",
       "      <td>graduate</td>\n",
       "      <td>no</td>\n",
       "      <td>4583</td>\n",
       "      <td>1508.0</td>\n",
       "      <td>128.0</td>\n",
       "      <td>360.0</td>\n",
       "      <td>1.0</td>\n",
       "      <td>rural</td>\n",
       "      <td>n</td>\n",
       "    </tr>\n",
       "    <tr>\n",
       "      <th>2</th>\n",
       "      <td>lp001005</td>\n",
       "      <td>male</td>\n",
       "      <td>yes</td>\n",
       "      <td>0.0</td>\n",
       "      <td>graduate</td>\n",
       "      <td>yes</td>\n",
       "      <td>3000</td>\n",
       "      <td>0.0</td>\n",
       "      <td>66.0</td>\n",
       "      <td>360.0</td>\n",
       "      <td>1.0</td>\n",
       "      <td>urban</td>\n",
       "      <td>y</td>\n",
       "    </tr>\n",
       "    <tr>\n",
       "      <th>3</th>\n",
       "      <td>lp001006</td>\n",
       "      <td>male</td>\n",
       "      <td>yes</td>\n",
       "      <td>0.0</td>\n",
       "      <td>not graduate</td>\n",
       "      <td>no</td>\n",
       "      <td>2583</td>\n",
       "      <td>2358.0</td>\n",
       "      <td>120.0</td>\n",
       "      <td>360.0</td>\n",
       "      <td>1.0</td>\n",
       "      <td>urban</td>\n",
       "      <td>y</td>\n",
       "    </tr>\n",
       "    <tr>\n",
       "      <th>4</th>\n",
       "      <td>lp001008</td>\n",
       "      <td>male</td>\n",
       "      <td>no</td>\n",
       "      <td>0.0</td>\n",
       "      <td>graduate</td>\n",
       "      <td>no</td>\n",
       "      <td>6000</td>\n",
       "      <td>0.0</td>\n",
       "      <td>141.0</td>\n",
       "      <td>360.0</td>\n",
       "      <td>1.0</td>\n",
       "      <td>urban</td>\n",
       "      <td>y</td>\n",
       "    </tr>\n",
       "  </tbody>\n",
       "</table>\n",
       "</div>"
      ],
      "text/plain": [
       "    loan_id gender married  dependents     education self_employed  \\\n",
       "0  lp001002   male      no         0.0      graduate            no   \n",
       "1  lp001003   male     yes         1.0      graduate            no   \n",
       "2  lp001005   male     yes         0.0      graduate           yes   \n",
       "3  lp001006   male     yes         0.0  not graduate            no   \n",
       "4  lp001008   male      no         0.0      graduate            no   \n",
       "\n",
       "   applicantincome  coapplicantincome  loanamount  loan_amount_term  \\\n",
       "0             5849                0.0         NaN             360.0   \n",
       "1             4583             1508.0       128.0             360.0   \n",
       "2             3000                0.0        66.0             360.0   \n",
       "3             2583             2358.0       120.0             360.0   \n",
       "4             6000                0.0       141.0             360.0   \n",
       "\n",
       "   credit_history property_area loan_status  \n",
       "0             1.0         urban           y  \n",
       "1             1.0         rural           n  \n",
       "2             1.0         urban           y  \n",
       "3             1.0         urban           y  \n",
       "4             1.0         urban           y  "
      ]
     },
     "execution_count": 112,
     "metadata": {},
     "output_type": "execute_result"
    }
   ],
   "source": [
    "loan.head(5)"
   ]
  },
  {
   "cell_type": "code",
   "execution_count": 113,
   "metadata": {},
   "outputs": [],
   "source": [
    "# 3a. Filling the missing values using SimpleImputer\n",
    "\n",
    "from sklearn.compose import ColumnTransformer\n",
    "from sklearn.impute import SimpleImputer\n",
    "import numpy as np\n",
    "import pandas as pd\n",
    "\n",
    "# Define the imputers\n",
    "mean_imputer = SimpleImputer(strategy='mean') # for numeric columns\n",
    "freq_imputer = SimpleImputer(strategy='most_frequent') # for object columns\n",
    "\n",
    "# Select the numeric columns\n",
    "numeric_columns = loan.select_dtypes(include=[np.number]).columns\n",
    "\n",
    "# Select the object columns\n",
    "object_columns = loan.select_dtypes(include=['object']).columns\n",
    "\n",
    "# Fit and transform the numeric columns\n",
    "numeric_data = pd.DataFrame(mean_imputer.fit_transform(loan[numeric_columns]), columns=numeric_columns)\n",
    "\n",
    "# Fit and transform the object columns\n",
    "object_data = pd.DataFrame(freq_imputer.fit_transform(loan[object_columns]), columns=object_columns)\n",
    "\n",
    "# Concatenate the numeric and object columns\n",
    "loan = pd.concat([numeric_data, object_data], axis=1)"
   ]
  },
  {
   "cell_type": "code",
   "execution_count": 114,
   "metadata": {},
   "outputs": [
    {
     "data": {
      "text/plain": [
       "dependents           0\n",
       "applicantincome      0\n",
       "coapplicantincome    0\n",
       "loanamount           0\n",
       "loan_amount_term     0\n",
       "credit_history       0\n",
       "loan_id              0\n",
       "gender               0\n",
       "married              0\n",
       "education            0\n",
       "self_employed        0\n",
       "property_area        0\n",
       "loan_status          0\n",
       "dtype: int64"
      ]
     },
     "execution_count": 114,
     "metadata": {},
     "output_type": "execute_result"
    }
   ],
   "source": [
    "loan.isnull().sum()"
   ]
  },
  {
   "cell_type": "code",
   "execution_count": 115,
   "metadata": {},
   "outputs": [
    {
     "data": {
      "text/plain": [
       "Index(['dependents', 'applicantincome', 'coapplicantincome', 'loanamount',\n",
       "       'loan_amount_term', 'credit_history', 'loan_id', 'gender', 'married',\n",
       "       'education', 'self_employed', 'property_area', 'loan_status'],\n",
       "      dtype='object')"
      ]
     },
     "execution_count": 115,
     "metadata": {},
     "output_type": "execute_result"
    }
   ],
   "source": [
    "loan.columns"
   ]
  },
  {
   "cell_type": "code",
   "execution_count": 116,
   "metadata": {},
   "outputs": [
    {
     "name": "stdout",
     "output_type": "stream",
     "text": [
      "<class 'pandas.core.frame.DataFrame'>\n",
      "RangeIndex: 614 entries, 0 to 613\n",
      "Data columns (total 13 columns):\n",
      " #   Column             Non-Null Count  Dtype  \n",
      "---  ------             --------------  -----  \n",
      " 0   dependents         614 non-null    float64\n",
      " 1   applicantincome    614 non-null    float64\n",
      " 2   coapplicantincome  614 non-null    float64\n",
      " 3   loanamount         614 non-null    float64\n",
      " 4   loan_amount_term   614 non-null    float64\n",
      " 5   credit_history     614 non-null    float64\n",
      " 6   loan_id            614 non-null    object \n",
      " 7   gender             614 non-null    object \n",
      " 8   married            614 non-null    object \n",
      " 9   education          614 non-null    object \n",
      " 10  self_employed      614 non-null    object \n",
      " 11  property_area      614 non-null    object \n",
      " 12  loan_status        614 non-null    object \n",
      "dtypes: float64(6), object(7)\n",
      "memory usage: 62.5+ KB\n"
     ]
    }
   ],
   "source": [
    "loan.info()"
   ]
  },
  {
   "cell_type": "code",
   "execution_count": 117,
   "metadata": {},
   "outputs": [
    {
     "data": {
      "text/html": [
       "<div>\n",
       "<style scoped>\n",
       "    .dataframe tbody tr th:only-of-type {\n",
       "        vertical-align: middle;\n",
       "    }\n",
       "\n",
       "    .dataframe tbody tr th {\n",
       "        vertical-align: top;\n",
       "    }\n",
       "\n",
       "    .dataframe thead th {\n",
       "        text-align: right;\n",
       "    }\n",
       "</style>\n",
       "<table border=\"1\" class=\"dataframe\">\n",
       "  <thead>\n",
       "    <tr style=\"text-align: right;\">\n",
       "      <th></th>\n",
       "      <th>dependents</th>\n",
       "      <th>applicantincome</th>\n",
       "      <th>coapplicantincome</th>\n",
       "      <th>loanamount</th>\n",
       "      <th>loan_amount_term</th>\n",
       "      <th>credit_history</th>\n",
       "      <th>loan_id</th>\n",
       "      <th>gender</th>\n",
       "      <th>married</th>\n",
       "      <th>education</th>\n",
       "      <th>self_employed</th>\n",
       "      <th>property_area</th>\n",
       "      <th>loan_status</th>\n",
       "    </tr>\n",
       "  </thead>\n",
       "  <tbody>\n",
       "    <tr>\n",
       "      <th>0</th>\n",
       "      <td>0.0</td>\n",
       "      <td>5849.0</td>\n",
       "      <td>0.0</td>\n",
       "      <td>146.412162</td>\n",
       "      <td>360.0</td>\n",
       "      <td>1.0</td>\n",
       "      <td>lp001002</td>\n",
       "      <td>male</td>\n",
       "      <td>no</td>\n",
       "      <td>graduate</td>\n",
       "      <td>no</td>\n",
       "      <td>urban</td>\n",
       "      <td>y</td>\n",
       "    </tr>\n",
       "    <tr>\n",
       "      <th>1</th>\n",
       "      <td>1.0</td>\n",
       "      <td>4583.0</td>\n",
       "      <td>1508.0</td>\n",
       "      <td>128.000000</td>\n",
       "      <td>360.0</td>\n",
       "      <td>1.0</td>\n",
       "      <td>lp001003</td>\n",
       "      <td>male</td>\n",
       "      <td>yes</td>\n",
       "      <td>graduate</td>\n",
       "      <td>no</td>\n",
       "      <td>rural</td>\n",
       "      <td>n</td>\n",
       "    </tr>\n",
       "    <tr>\n",
       "      <th>2</th>\n",
       "      <td>0.0</td>\n",
       "      <td>3000.0</td>\n",
       "      <td>0.0</td>\n",
       "      <td>66.000000</td>\n",
       "      <td>360.0</td>\n",
       "      <td>1.0</td>\n",
       "      <td>lp001005</td>\n",
       "      <td>male</td>\n",
       "      <td>yes</td>\n",
       "      <td>graduate</td>\n",
       "      <td>yes</td>\n",
       "      <td>urban</td>\n",
       "      <td>y</td>\n",
       "    </tr>\n",
       "    <tr>\n",
       "      <th>3</th>\n",
       "      <td>0.0</td>\n",
       "      <td>2583.0</td>\n",
       "      <td>2358.0</td>\n",
       "      <td>120.000000</td>\n",
       "      <td>360.0</td>\n",
       "      <td>1.0</td>\n",
       "      <td>lp001006</td>\n",
       "      <td>male</td>\n",
       "      <td>yes</td>\n",
       "      <td>not graduate</td>\n",
       "      <td>no</td>\n",
       "      <td>urban</td>\n",
       "      <td>y</td>\n",
       "    </tr>\n",
       "    <tr>\n",
       "      <th>4</th>\n",
       "      <td>0.0</td>\n",
       "      <td>6000.0</td>\n",
       "      <td>0.0</td>\n",
       "      <td>141.000000</td>\n",
       "      <td>360.0</td>\n",
       "      <td>1.0</td>\n",
       "      <td>lp001008</td>\n",
       "      <td>male</td>\n",
       "      <td>no</td>\n",
       "      <td>graduate</td>\n",
       "      <td>no</td>\n",
       "      <td>urban</td>\n",
       "      <td>y</td>\n",
       "    </tr>\n",
       "  </tbody>\n",
       "</table>\n",
       "</div>"
      ],
      "text/plain": [
       "   dependents  applicantincome  coapplicantincome  loanamount  \\\n",
       "0         0.0           5849.0                0.0  146.412162   \n",
       "1         1.0           4583.0             1508.0  128.000000   \n",
       "2         0.0           3000.0                0.0   66.000000   \n",
       "3         0.0           2583.0             2358.0  120.000000   \n",
       "4         0.0           6000.0                0.0  141.000000   \n",
       "\n",
       "   loan_amount_term  credit_history   loan_id gender married     education  \\\n",
       "0             360.0             1.0  lp001002   male      no      graduate   \n",
       "1             360.0             1.0  lp001003   male     yes      graduate   \n",
       "2             360.0             1.0  lp001005   male     yes      graduate   \n",
       "3             360.0             1.0  lp001006   male     yes  not graduate   \n",
       "4             360.0             1.0  lp001008   male      no      graduate   \n",
       "\n",
       "  self_employed property_area loan_status  \n",
       "0            no         urban           y  \n",
       "1            no         rural           n  \n",
       "2           yes         urban           y  \n",
       "3            no         urban           y  \n",
       "4            no         urban           y  "
      ]
     },
     "execution_count": 117,
     "metadata": {},
     "output_type": "execute_result"
    }
   ],
   "source": [
    "loan.head(5)"
   ]
  },
  {
   "cell_type": "code",
   "execution_count": 118,
   "metadata": {},
   "outputs": [],
   "source": [
    "# 3b. Drop the columns which are not required for classification model ie. redundant columns \n",
    "\n",
    "loan = loan.drop(['loan_id'], axis=1) # axis=1 for column and axis=0 for row"
   ]
  },
  {
   "cell_type": "code",
   "execution_count": 119,
   "metadata": {},
   "outputs": [
    {
     "data": {
      "text/plain": [
       "Index(['dependents', 'applicantincome', 'coapplicantincome', 'loanamount',\n",
       "       'loan_amount_term', 'credit_history', 'gender', 'married', 'education',\n",
       "       'self_employed', 'property_area', 'loan_status'],\n",
       "      dtype='object')"
      ]
     },
     "execution_count": 119,
     "metadata": {},
     "output_type": "execute_result"
    }
   ],
   "source": [
    "loan.columns"
   ]
  },
  {
   "cell_type": "code",
   "execution_count": 120,
   "metadata": {},
   "outputs": [
    {
     "data": {
      "text/plain": [
       "(614, 12)"
      ]
     },
     "execution_count": 120,
     "metadata": {},
     "output_type": "execute_result"
    }
   ],
   "source": [
    "loan.shape"
   ]
  },
  {
   "cell_type": "code",
   "execution_count": 121,
   "metadata": {},
   "outputs": [
    {
     "data": {
      "image/png": "[encoded data removed]",
      "text/plain": [
       "<Figure size 1000x400 with 1 Axes>"
      ]
     },
     "metadata": {},
     "output_type": "display_data"
    },
    {
     "data": {
      "image/png": "[encoded data removed]",
      "text/plain": [
       "<Figure size 1000x400 with 1 Axes>"
      ]
     },
     "metadata": {},
     "output_type": "display_data"
    },
    {
     "data": {
      "image/png": "[encoded data removed]",
      "text/plain": [
       "<Figure size 1000x400 with 1 Axes>"
      ]
     },
     "metadata": {},
     "output_type": "display_data"
    },
    {
     "data": {
      "image/png": "[encoded data removed]",
      "text/plain": [
       "<Figure size 1000x400 with 1 Axes>"
      ]
     },
     "metadata": {},
     "output_type": "display_data"
    },
    {
     "data": {
      "image/png": "[encoded data removed]",
      "text/plain": [
       "<Figure size 1000x400 with 1 Axes>"
      ]
     },
     "metadata": {},
     "output_type": "display_data"
    }
   ],
   "source": [
    "# 4. Visualize the distribution of the target column 'loan_status' with respect to various categorical features using countplot\n",
    "\n",
    "import seaborn as sns\n",
    "import matplotlib.pyplot as plt\n",
    "\n",
    "categorical_features = ['gender', 'married', 'education', 'self_employed', 'property_area']\n",
    "\n",
    "for feature in categorical_features:\n",
    "    plt.figure(figsize=(10,4))\n",
    "    sns.countplot(x=feature, hue='loan_status', data=loan)\n",
    "    plt.show()"
   ]
  },
  {
   "cell_type": "code",
   "execution_count": 122,
   "metadata": {},
   "outputs": [
    {
     "name": "stdout",
     "output_type": "stream",
     "text": [
      "loan_status    n    y\n",
      "gender               \n",
      "female        37   75\n",
      "male         155  347\n",
      "loan_status    n    y\n",
      "married              \n",
      "no            79  134\n",
      "yes          113  288\n",
      "loan_status     n    y\n",
      "education             \n",
      "graduate      140  340\n",
      "not graduate   52   82\n",
      "loan_status      n    y\n",
      "self_employed          \n",
      "no             166  366\n",
      "yes             26   56\n",
      "loan_status     n    y\n",
      "property_area         \n",
      "rural          69  110\n",
      "semiurban      54  179\n",
      "urban          69  133\n"
     ]
    }
   ],
   "source": [
    "import pandas as pd\n",
    "\n",
    "for feature in categorical_features:\n",
    "    print(pd.crosstab(loan[feature], loan['loan_status']))"
   ]
  },
  {
   "cell_type": "code",
   "execution_count": 123,
   "metadata": {},
   "outputs": [
    {
     "data": {
      "image/png": "[encoded data removed]",
      "text/plain": [
       "<Figure size 1200x600 with 2 Axes>"
      ]
     },
     "metadata": {},
     "output_type": "display_data"
    },
    {
     "data": {
      "image/png": "[encoded data removed]",
      "text/plain": [
       "<Figure size 1200x600 with 2 Axes>"
      ]
     },
     "metadata": {},
     "output_type": "display_data"
    },
    {
     "data": {
      "image/png": "[encoded data removed]",
      "text/plain": [
       "<Figure size 1200x600 with 2 Axes>"
      ]
     },
     "metadata": {},
     "output_type": "display_data"
    },
    {
     "data": {
      "image/png": "[encoded data removed]",
      "text/plain": [
       "<Figure size 1200x600 with 2 Axes>"
      ]
     },
     "metadata": {},
     "output_type": "display_data"
    },
    {
     "data": {
      "image/png": "[encoded data removed]",
      "text/plain": [
       "<Figure size 1200x600 with 2 Axes>"
      ]
     },
     "metadata": {},
     "output_type": "display_data"
    }
   ],
   "source": [
    "import matplotlib.pyplot as plt\n",
    "\n",
    "# Replace 'n' and 'y' with 'Not Approved' and 'Approved'\n",
    "loan['loan_status'] = loan['loan_status'].replace({'n': 'Not Approved', 'y': 'Approved'})\n",
    "\n",
    "categorical_features = ['gender', 'married', 'education', 'self_employed', 'property_area']\n",
    "\n",
    "for feature in categorical_features:\n",
    "    loan_status_distribution = pd.crosstab(loan[feature], loan['loan_status'])\n",
    "    loan_status_distribution.plot(kind='pie', subplots=True, figsize=(12, 6), autopct='%1.1f%%')\n",
    "    plt.title(f'Loan Status Distribution by {feature}')\n",
    "    plt.show()"
   ]
  },
  {
   "cell_type": "markdown",
   "metadata": {},
   "source": [
    "4b. Here are some crosstab observations drawn:\n",
    "\n",
    "1. Gender: There are more males than females in the dataset. Also, the proportion of loans approved is higher for males than for females.\n",
    "\n",
    "2. Married: People who are married have a higher count of loan approval than those who are not married.\n",
    "\n",
    "3. Education: Graduates have a higher count of loan approval than non-graduates.\n",
    "\n",
    "4. Self_Employed: Non-self-employed individuals have a higher count of loan approval than self-employed individuals.\n",
    "\n",
    "5. Property_Area: People living in semi-urban areas have the highest count of loan approval, followed by those in urban and rural areas.\n",
    "\n"
   ]
  },
  {
   "cell_type": "code",
   "execution_count": 124,
   "metadata": {},
   "outputs": [
    {
     "data": {
      "text/html": [
       "<div>\n",
       "<style scoped>\n",
       "    .dataframe tbody tr th:only-of-type {\n",
       "        vertical-align: middle;\n",
       "    }\n",
       "\n",
       "    .dataframe tbody tr th {\n",
       "        vertical-align: top;\n",
       "    }\n",
       "\n",
       "    .dataframe thead th {\n",
       "        text-align: right;\n",
       "    }\n",
       "</style>\n",
       "<table border=\"1\" class=\"dataframe\">\n",
       "  <thead>\n",
       "    <tr style=\"text-align: right;\">\n",
       "      <th></th>\n",
       "      <th>dependents</th>\n",
       "      <th>applicantincome</th>\n",
       "      <th>coapplicantincome</th>\n",
       "      <th>loanamount</th>\n",
       "      <th>loan_amount_term</th>\n",
       "      <th>credit_history</th>\n",
       "      <th>gender</th>\n",
       "      <th>married</th>\n",
       "      <th>education</th>\n",
       "      <th>self_employed</th>\n",
       "      <th>property_area</th>\n",
       "      <th>loan_status</th>\n",
       "    </tr>\n",
       "  </thead>\n",
       "  <tbody>\n",
       "    <tr>\n",
       "      <th>0</th>\n",
       "      <td>0.0</td>\n",
       "      <td>5849.0</td>\n",
       "      <td>0.0</td>\n",
       "      <td>146.412162</td>\n",
       "      <td>360.0</td>\n",
       "      <td>1.0</td>\n",
       "      <td>male</td>\n",
       "      <td>no</td>\n",
       "      <td>graduate</td>\n",
       "      <td>no</td>\n",
       "      <td>urban</td>\n",
       "      <td>Approved</td>\n",
       "    </tr>\n",
       "    <tr>\n",
       "      <th>1</th>\n",
       "      <td>1.0</td>\n",
       "      <td>4583.0</td>\n",
       "      <td>1508.0</td>\n",
       "      <td>128.000000</td>\n",
       "      <td>360.0</td>\n",
       "      <td>1.0</td>\n",
       "      <td>male</td>\n",
       "      <td>yes</td>\n",
       "      <td>graduate</td>\n",
       "      <td>no</td>\n",
       "      <td>rural</td>\n",
       "      <td>Not Approved</td>\n",
       "    </tr>\n",
       "    <tr>\n",
       "      <th>2</th>\n",
       "      <td>0.0</td>\n",
       "      <td>3000.0</td>\n",
       "      <td>0.0</td>\n",
       "      <td>66.000000</td>\n",
       "      <td>360.0</td>\n",
       "      <td>1.0</td>\n",
       "      <td>male</td>\n",
       "      <td>yes</td>\n",
       "      <td>graduate</td>\n",
       "      <td>yes</td>\n",
       "      <td>urban</td>\n",
       "      <td>Approved</td>\n",
       "    </tr>\n",
       "  </tbody>\n",
       "</table>\n",
       "</div>"
      ],
      "text/plain": [
       "   dependents  applicantincome  coapplicantincome  loanamount  \\\n",
       "0         0.0           5849.0                0.0  146.412162   \n",
       "1         1.0           4583.0             1508.0  128.000000   \n",
       "2         0.0           3000.0                0.0   66.000000   \n",
       "\n",
       "   loan_amount_term  credit_history gender married education self_employed  \\\n",
       "0             360.0             1.0   male      no  graduate            no   \n",
       "1             360.0             1.0   male     yes  graduate            no   \n",
       "2             360.0             1.0   male     yes  graduate           yes   \n",
       "\n",
       "  property_area   loan_status  \n",
       "0         urban      Approved  \n",
       "1         rural  Not Approved  \n",
       "2         urban      Approved  "
      ]
     },
     "execution_count": 124,
     "metadata": {},
     "output_type": "execute_result"
    }
   ],
   "source": [
    "loan.head(3)"
   ]
  },
  {
   "cell_type": "code",
   "execution_count": 125,
   "metadata": {},
   "outputs": [],
   "source": [
    "# 5. Encode the categorical data to numerical data using LabelEncoder\n",
    "\n",
    "from sklearn.preprocessing import LabelEncoder\n",
    "\n",
    "# Create a LabelEncoder object\n",
    "le = LabelEncoder()\n",
    "\n",
    "# Select columns of type 'object'\n",
    "object_cols = loan.select_dtypes(include=['object']).columns\n",
    "\n",
    "# Apply the LabelEncoder to each of the object columns\n",
    "for col in object_cols:\n",
    "    loan[col] = le.fit_transform(loan[col])\n",
    "\n",
    "\n"
   ]
  },
  {
   "cell_type": "code",
   "execution_count": 126,
   "metadata": {},
   "outputs": [
    {
     "data": {
      "text/html": [
       "<div>\n",
       "<style scoped>\n",
       "    .dataframe tbody tr th:only-of-type {\n",
       "        vertical-align: middle;\n",
       "    }\n",
       "\n",
       "    .dataframe tbody tr th {\n",
       "        vertical-align: top;\n",
       "    }\n",
       "\n",
       "    .dataframe thead th {\n",
       "        text-align: right;\n",
       "    }\n",
       "</style>\n",
       "<table border=\"1\" class=\"dataframe\">\n",
       "  <thead>\n",
       "    <tr style=\"text-align: right;\">\n",
       "      <th></th>\n",
       "      <th>dependents</th>\n",
       "      <th>applicantincome</th>\n",
       "      <th>coapplicantincome</th>\n",
       "      <th>loanamount</th>\n",
       "      <th>loan_amount_term</th>\n",
       "      <th>credit_history</th>\n",
       "      <th>gender</th>\n",
       "      <th>married</th>\n",
       "      <th>education</th>\n",
       "      <th>self_employed</th>\n",
       "      <th>property_area</th>\n",
       "      <th>loan_status</th>\n",
       "    </tr>\n",
       "  </thead>\n",
       "  <tbody>\n",
       "    <tr>\n",
       "      <th>0</th>\n",
       "      <td>0.0</td>\n",
       "      <td>5849.0</td>\n",
       "      <td>0.0</td>\n",
       "      <td>146.412162</td>\n",
       "      <td>360.0</td>\n",
       "      <td>1.0</td>\n",
       "      <td>1</td>\n",
       "      <td>0</td>\n",
       "      <td>0</td>\n",
       "      <td>0</td>\n",
       "      <td>2</td>\n",
       "      <td>0</td>\n",
       "    </tr>\n",
       "    <tr>\n",
       "      <th>1</th>\n",
       "      <td>1.0</td>\n",
       "      <td>4583.0</td>\n",
       "      <td>1508.0</td>\n",
       "      <td>128.000000</td>\n",
       "      <td>360.0</td>\n",
       "      <td>1.0</td>\n",
       "      <td>1</td>\n",
       "      <td>1</td>\n",
       "      <td>0</td>\n",
       "      <td>0</td>\n",
       "      <td>0</td>\n",
       "      <td>1</td>\n",
       "    </tr>\n",
       "    <tr>\n",
       "      <th>2</th>\n",
       "      <td>0.0</td>\n",
       "      <td>3000.0</td>\n",
       "      <td>0.0</td>\n",
       "      <td>66.000000</td>\n",
       "      <td>360.0</td>\n",
       "      <td>1.0</td>\n",
       "      <td>1</td>\n",
       "      <td>1</td>\n",
       "      <td>0</td>\n",
       "      <td>1</td>\n",
       "      <td>2</td>\n",
       "      <td>0</td>\n",
       "    </tr>\n",
       "  </tbody>\n",
       "</table>\n",
       "</div>"
      ],
      "text/plain": [
       "   dependents  applicantincome  coapplicantincome  loanamount  \\\n",
       "0         0.0           5849.0                0.0  146.412162   \n",
       "1         1.0           4583.0             1508.0  128.000000   \n",
       "2         0.0           3000.0                0.0   66.000000   \n",
       "\n",
       "   loan_amount_term  credit_history  gender  married  education  \\\n",
       "0             360.0             1.0       1        0          0   \n",
       "1             360.0             1.0       1        1          0   \n",
       "2             360.0             1.0       1        1          0   \n",
       "\n",
       "   self_employed  property_area  loan_status  \n",
       "0              0              2            0  \n",
       "1              0              0            1  \n",
       "2              1              2            0  "
      ]
     },
     "execution_count": 126,
     "metadata": {},
     "output_type": "execute_result"
    }
   ],
   "source": [
    "loan.head(3)"
   ]
  },
  {
   "cell_type": "code",
   "execution_count": 127,
   "metadata": {},
   "outputs": [],
   "source": [
    "# Creating a new csv file for processed data\n",
    "loan.to_csv(\"Loan Processed data.csv\") # Saving the processed data to a new csv file"
   ]
  },
  {
   "cell_type": "code",
   "execution_count": 128,
   "metadata": {},
   "outputs": [],
   "source": [
    "# 6. Split the dataset into features and target variable \n",
    "data = loan.iloc[:, 0:-1] # Selecting all the columns except the last column\n",
    "target = loan.iloc[:, -1:] # Selecting the last column"
   ]
  },
  {
   "cell_type": "code",
   "execution_count": 129,
   "metadata": {},
   "outputs": [
    {
     "data": {
      "text/plain": [
       "Index(['dependents', 'applicantincome', 'coapplicantincome', 'loanamount',\n",
       "       'loan_amount_term', 'credit_history', 'gender', 'married', 'education',\n",
       "       'self_employed', 'property_area', 'loan_status'],\n",
       "      dtype='object')"
      ]
     },
     "execution_count": 129,
     "metadata": {},
     "output_type": "execute_result"
    }
   ],
   "source": [
    "loan.columns"
   ]
  },
  {
   "cell_type": "code",
   "execution_count": 130,
   "metadata": {},
   "outputs": [
    {
     "data": {
      "text/html": [
       "<div>\n",
       "<style scoped>\n",
       "    .dataframe tbody tr th:only-of-type {\n",
       "        vertical-align: middle;\n",
       "    }\n",
       "\n",
       "    .dataframe tbody tr th {\n",
       "        vertical-align: top;\n",
       "    }\n",
       "\n",
       "    .dataframe thead th {\n",
       "        text-align: right;\n",
       "    }\n",
       "</style>\n",
       "<table border=\"1\" class=\"dataframe\">\n",
       "  <thead>\n",
       "    <tr style=\"text-align: right;\">\n",
       "      <th></th>\n",
       "      <th>dependents</th>\n",
       "      <th>applicantincome</th>\n",
       "      <th>coapplicantincome</th>\n",
       "      <th>loanamount</th>\n",
       "      <th>loan_amount_term</th>\n",
       "      <th>credit_history</th>\n",
       "      <th>gender</th>\n",
       "      <th>married</th>\n",
       "      <th>education</th>\n",
       "      <th>self_employed</th>\n",
       "      <th>property_area</th>\n",
       "    </tr>\n",
       "  </thead>\n",
       "  <tbody>\n",
       "    <tr>\n",
       "      <th>0</th>\n",
       "      <td>0.0</td>\n",
       "      <td>5849.0</td>\n",
       "      <td>0.0</td>\n",
       "      <td>146.412162</td>\n",
       "      <td>360.0</td>\n",
       "      <td>1.0</td>\n",
       "      <td>1</td>\n",
       "      <td>0</td>\n",
       "      <td>0</td>\n",
       "      <td>0</td>\n",
       "      <td>2</td>\n",
       "    </tr>\n",
       "    <tr>\n",
       "      <th>1</th>\n",
       "      <td>1.0</td>\n",
       "      <td>4583.0</td>\n",
       "      <td>1508.0</td>\n",
       "      <td>128.000000</td>\n",
       "      <td>360.0</td>\n",
       "      <td>1.0</td>\n",
       "      <td>1</td>\n",
       "      <td>1</td>\n",
       "      <td>0</td>\n",
       "      <td>0</td>\n",
       "      <td>0</td>\n",
       "    </tr>\n",
       "    <tr>\n",
       "      <th>2</th>\n",
       "      <td>0.0</td>\n",
       "      <td>3000.0</td>\n",
       "      <td>0.0</td>\n",
       "      <td>66.000000</td>\n",
       "      <td>360.0</td>\n",
       "      <td>1.0</td>\n",
       "      <td>1</td>\n",
       "      <td>1</td>\n",
       "      <td>0</td>\n",
       "      <td>1</td>\n",
       "      <td>2</td>\n",
       "    </tr>\n",
       "    <tr>\n",
       "      <th>3</th>\n",
       "      <td>0.0</td>\n",
       "      <td>2583.0</td>\n",
       "      <td>2358.0</td>\n",
       "      <td>120.000000</td>\n",
       "      <td>360.0</td>\n",
       "      <td>1.0</td>\n",
       "      <td>1</td>\n",
       "      <td>1</td>\n",
       "      <td>1</td>\n",
       "      <td>0</td>\n",
       "      <td>2</td>\n",
       "    </tr>\n",
       "    <tr>\n",
       "      <th>4</th>\n",
       "      <td>0.0</td>\n",
       "      <td>6000.0</td>\n",
       "      <td>0.0</td>\n",
       "      <td>141.000000</td>\n",
       "      <td>360.0</td>\n",
       "      <td>1.0</td>\n",
       "      <td>1</td>\n",
       "      <td>0</td>\n",
       "      <td>0</td>\n",
       "      <td>0</td>\n",
       "      <td>2</td>\n",
       "    </tr>\n",
       "  </tbody>\n",
       "</table>\n",
       "</div>"
      ],
      "text/plain": [
       "   dependents  applicantincome  coapplicantincome  loanamount  \\\n",
       "0         0.0           5849.0                0.0  146.412162   \n",
       "1         1.0           4583.0             1508.0  128.000000   \n",
       "2         0.0           3000.0                0.0   66.000000   \n",
       "3         0.0           2583.0             2358.0  120.000000   \n",
       "4         0.0           6000.0                0.0  141.000000   \n",
       "\n",
       "   loan_amount_term  credit_history  gender  married  education  \\\n",
       "0             360.0             1.0       1        0          0   \n",
       "1             360.0             1.0       1        1          0   \n",
       "2             360.0             1.0       1        1          0   \n",
       "3             360.0             1.0       1        1          1   \n",
       "4             360.0             1.0       1        0          0   \n",
       "\n",
       "   self_employed  property_area  \n",
       "0              0              2  \n",
       "1              0              0  \n",
       "2              1              2  \n",
       "3              0              2  \n",
       "4              0              2  "
      ]
     },
     "execution_count": 130,
     "metadata": {},
     "output_type": "execute_result"
    }
   ],
   "source": [
    "data.head(5)"
   ]
  },
  {
   "cell_type": "code",
   "execution_count": 131,
   "metadata": {},
   "outputs": [
    {
     "data": {
      "text/html": [
       "<div>\n",
       "<style scoped>\n",
       "    .dataframe tbody tr th:only-of-type {\n",
       "        vertical-align: middle;\n",
       "    }\n",
       "\n",
       "    .dataframe tbody tr th {\n",
       "        vertical-align: top;\n",
       "    }\n",
       "\n",
       "    .dataframe thead th {\n",
       "        text-align: right;\n",
       "    }\n",
       "</style>\n",
       "<table border=\"1\" class=\"dataframe\">\n",
       "  <thead>\n",
       "    <tr style=\"text-align: right;\">\n",
       "      <th></th>\n",
       "      <th>loan_status</th>\n",
       "    </tr>\n",
       "  </thead>\n",
       "  <tbody>\n",
       "    <tr>\n",
       "      <th>0</th>\n",
       "      <td>0</td>\n",
       "    </tr>\n",
       "    <tr>\n",
       "      <th>1</th>\n",
       "      <td>1</td>\n",
       "    </tr>\n",
       "  </tbody>\n",
       "</table>\n",
       "</div>"
      ],
      "text/plain": [
       "   loan_status\n",
       "0            0\n",
       "1            1"
      ]
     },
     "execution_count": 131,
     "metadata": {},
     "output_type": "execute_result"
    }
   ],
   "source": [
    "target.head(2)"
   ]
  },
  {
   "cell_type": "code",
   "execution_count": 132,
   "metadata": {},
   "outputs": [],
   "source": [
    "data.to_csv(\"Data.csv\")\n",
    "target.to_csv(\"Target.csv\")"
   ]
  },
  {
   "cell_type": "code",
   "execution_count": 133,
   "metadata": {},
   "outputs": [],
   "source": [
    "# 6. Split the dataset into training and testing set using train_test_split function\n",
    "\n",
    "x_train, x_test, y_train, y_test = train_test_split(data, target, test_size = 1/5, random_state=10) # Splitting the dataset into training and testing set with 1/5 ratio ie. 20% for testing and 80% for training the model. random_state is used to get the same result every time we run the code. data, target are the features and target variable respectively."
   ]
  },
  {
   "cell_type": "markdown",
   "metadata": {},
   "source": [
    "7. Build any classification model to predict the loan status of the customer\n",
    "and save your model using pickle."
   ]
  },
  {
   "cell_type": "code",
   "execution_count": 134,
   "metadata": {},
   "outputs": [
    {
     "name": "stderr",
     "output_type": "stream",
     "text": [
      "c:\\Users\\nhari\\anaconda3\\Lib\\site-packages\\sklearn\\base.py:1351: DataConversionWarning: A column-vector y was passed when a 1d array was expected. Please change the shape of y to (n_samples,), for example using ravel().\n",
      "  return fit_method(estimator, *args, **kwargs)\n"
     ]
    },
    {
     "name": "stdout",
     "output_type": "stream",
     "text": [
      "The accuracy of Random Forest Classifier is 0.7804878048780488\n",
      "\n",
      "The accuracy of K Nearest Neighbors is 0.6097560975609756\n",
      "\n",
      "The accuracy of Multinomial NB is 0.5365853658536586\n",
      "\n",
      "The accuracy of Gaussian NB is 0.7804878048780488\n",
      "\n",
      "The accuracy of Logistic Regression is 0.7967479674796748\n",
      "\n",
      "The accuracy of Decision Tree Classifier is 0.7073170731707317\n",
      "\n"
     ]
    },
    {
     "name": "stderr",
     "output_type": "stream",
     "text": [
      "c:\\Users\\nhari\\anaconda3\\Lib\\site-packages\\sklearn\\neighbors\\_classification.py:238: DataConversionWarning: A column-vector y was passed when a 1d array was expected. Please change the shape of y to (n_samples,), for example using ravel().\n",
      "  return self._fit(X, y)\n",
      "c:\\Users\\nhari\\anaconda3\\Lib\\site-packages\\sklearn\\utils\\validation.py:1229: DataConversionWarning: A column-vector y was passed when a 1d array was expected. Please change the shape of y to (n_samples, ), for example using ravel().\n",
      "  y = column_or_1d(y, warn=True)\n",
      "c:\\Users\\nhari\\anaconda3\\Lib\\site-packages\\sklearn\\utils\\validation.py:1229: DataConversionWarning: A column-vector y was passed when a 1d array was expected. Please change the shape of y to (n_samples, ), for example using ravel().\n",
      "  y = column_or_1d(y, warn=True)\n",
      "c:\\Users\\nhari\\anaconda3\\Lib\\site-packages\\sklearn\\utils\\validation.py:1229: DataConversionWarning: A column-vector y was passed when a 1d array was expected. Please change the shape of y to (n_samples, ), for example using ravel().\n",
      "  y = column_or_1d(y, warn=True)\n",
      "c:\\Users\\nhari\\anaconda3\\Lib\\site-packages\\sklearn\\linear_model\\_logistic.py:469: ConvergenceWarning: lbfgs failed to converge (status=1):\n",
      "STOP: TOTAL NO. of ITERATIONS REACHED LIMIT.\n",
      "\n",
      "Increase the number of iterations (max_iter) or scale the data as shown in:\n",
      "    https://scikit-learn.org/stable/modules/preprocessing.html\n",
      "Please also refer to the documentation for alternative solver options:\n",
      "    https://scikit-learn.org/stable/modules/linear_model.html#logistic-regression\n",
      "  n_iter_i = _check_optimize_result(\n"
     ]
    }
   ],
   "source": [
    "# 7a. Train the model using RandomForestClassifier, KNeighborsClassifier, MultinomialNB, GaussianNB, LogisticRegression, DecisionTreeClassifier\n",
    "\n",
    "from sklearn.ensemble import RandomForestClassifier\n",
    "from sklearn.neighbors import KNeighborsClassifier\n",
    "from sklearn.naive_bayes import MultinomialNB, GaussianNB\n",
    "from sklearn.linear_model import LogisticRegression\n",
    "from sklearn.tree import DecisionTreeClassifier\n",
    "from sklearn.metrics import accuracy_score\n",
    "\n",
    "# Get the feature names from 'data'\n",
    "features = data.columns.tolist()\n",
    "\n",
    "# Set the column names of 'x_train' and 'x_test'\n",
    "x_train.columns = features\n",
    "x_test.columns = features\n",
    "\n",
    "# Define a dictionary with the models\n",
    "models = {\n",
    "    \"Random Forest Classifier\": RandomForestClassifier(),\n",
    "    \"K Nearest Neighbors\": KNeighborsClassifier(),\n",
    "    \"Multinomial NB\": MultinomialNB(),\n",
    "    \"Gaussian NB\": GaussianNB(),\n",
    "    \"Logistic Regression\": LogisticRegression(),\n",
    "    \"Decision Tree Classifier\": DecisionTreeClassifier()\n",
    "}\n",
    "\n",
    "# Train the models and calculate the accuracy scores\n",
    "for model_name, model in models.items():\n",
    "    model.fit(x_train, y_train)\n",
    "    pred = model.predict(x_test)\n",
    "    accuracy = accuracy_score(y_test, pred)\n",
    "    print(f\"The accuracy of {model_name} is {accuracy}\\n\")"
   ]
  },
  {
   "cell_type": "code",
   "execution_count": 135,
   "metadata": {},
   "outputs": [
    {
     "name": "stderr",
     "output_type": "stream",
     "text": [
      "c:\\Users\\nhari\\anaconda3\\Lib\\site-packages\\sklearn\\base.py:1351: DataConversionWarning: A column-vector y was passed when a 1d array was expected. Please change the shape of y to (n_samples,), for example using ravel().\n",
      "  return fit_method(estimator, *args, **kwargs)\n"
     ]
    },
    {
     "name": "stdout",
     "output_type": "stream",
     "text": [
      "Metrics for Random Forest Classifier:\n",
      "\n",
      "              precision    recall  f1-score   support\n",
      "\n",
      "           0       0.78      0.95      0.86        87\n",
      "           1       0.76      0.36      0.49        36\n",
      "\n",
      "    accuracy                           0.78       123\n",
      "   macro avg       0.77      0.66      0.68       123\n",
      "weighted avg       0.78      0.78      0.75       123\n",
      "\n",
      "Metrics for K Nearest Neighbors:\n",
      "\n",
      "              precision    recall  f1-score   support\n",
      "\n",
      "           0       0.69      0.80      0.74        87\n",
      "           1       0.23      0.14      0.17        36\n",
      "\n",
      "    accuracy                           0.61       123\n",
      "   macro avg       0.46      0.47      0.46       123\n",
      "weighted avg       0.56      0.61      0.58       123\n",
      "\n",
      "Metrics for Multinomial NB:\n",
      "\n",
      "              precision    recall  f1-score   support\n",
      "\n",
      "           0       0.75      0.52      0.61        87\n",
      "           1       0.33      0.58      0.42        36\n",
      "\n",
      "    accuracy                           0.54       123\n",
      "   macro avg       0.54      0.55      0.52       123\n",
      "weighted avg       0.63      0.54      0.56       123\n",
      "\n",
      "Metrics for Gaussian NB:\n",
      "\n",
      "              precision    recall  f1-score   support\n",
      "\n",
      "           0       0.78      0.95      0.86        87\n",
      "           1       0.76      0.36      0.49        36\n",
      "\n",
      "    accuracy                           0.78       123\n",
      "   macro avg       0.77      0.66      0.68       123\n",
      "weighted avg       0.78      0.78      0.75       123\n",
      "\n",
      "Metrics for Logistic Regression:\n",
      "\n",
      "              precision    recall  f1-score   support\n",
      "\n",
      "           0       0.78      0.99      0.87        87\n",
      "           1       0.92      0.33      0.49        36\n",
      "\n",
      "    accuracy                           0.80       123\n",
      "   macro avg       0.85      0.66      0.68       123\n",
      "weighted avg       0.82      0.80      0.76       123\n",
      "\n",
      "Metrics for Decision Tree Classifier:\n",
      "\n",
      "              precision    recall  f1-score   support\n",
      "\n",
      "           0       0.79      0.79      0.79        87\n",
      "           1       0.50      0.50      0.50        36\n",
      "\n",
      "    accuracy                           0.71       123\n",
      "   macro avg       0.65      0.65      0.65       123\n",
      "weighted avg       0.71      0.71      0.71       123\n",
      "\n"
     ]
    },
    {
     "name": "stderr",
     "output_type": "stream",
     "text": [
      "c:\\Users\\nhari\\anaconda3\\Lib\\site-packages\\sklearn\\neighbors\\_classification.py:238: DataConversionWarning: A column-vector y was passed when a 1d array was expected. Please change the shape of y to (n_samples,), for example using ravel().\n",
      "  return self._fit(X, y)\n",
      "c:\\Users\\nhari\\anaconda3\\Lib\\site-packages\\sklearn\\utils\\validation.py:1229: DataConversionWarning: A column-vector y was passed when a 1d array was expected. Please change the shape of y to (n_samples, ), for example using ravel().\n",
      "  y = column_or_1d(y, warn=True)\n",
      "c:\\Users\\nhari\\anaconda3\\Lib\\site-packages\\sklearn\\utils\\validation.py:1229: DataConversionWarning: A column-vector y was passed when a 1d array was expected. Please change the shape of y to (n_samples, ), for example using ravel().\n",
      "  y = column_or_1d(y, warn=True)\n",
      "c:\\Users\\nhari\\anaconda3\\Lib\\site-packages\\sklearn\\utils\\validation.py:1229: DataConversionWarning: A column-vector y was passed when a 1d array was expected. Please change the shape of y to (n_samples, ), for example using ravel().\n",
      "  y = column_or_1d(y, warn=True)\n",
      "c:\\Users\\nhari\\anaconda3\\Lib\\site-packages\\sklearn\\linear_model\\_logistic.py:469: ConvergenceWarning: lbfgs failed to converge (status=1):\n",
      "STOP: TOTAL NO. of ITERATIONS REACHED LIMIT.\n",
      "\n",
      "Increase the number of iterations (max_iter) or scale the data as shown in:\n",
      "    https://scikit-learn.org/stable/modules/preprocessing.html\n",
      "Please also refer to the documentation for alternative solver options:\n",
      "    https://scikit-learn.org/stable/modules/linear_model.html#logistic-regression\n",
      "  n_iter_i = _check_optimize_result(\n"
     ]
    }
   ],
   "source": [
    "from sklearn.metrics import classification_report\n",
    "\n",
    "# Apply other metrics like classification report which gives precision, recall, f1-score and support for each class in the target variable to check the efficiency of the model\n",
    "for model_name, model in models.items():\n",
    "    model.fit(x_train, y_train)\n",
    "    pred = model.predict(x_test)\n",
    "    print(f\"Metrics for {model_name}:\\n\")\n",
    "    print(classification_report(y_test, pred))"
   ]
  },
  {
   "cell_type": "code",
   "execution_count": 136,
   "metadata": {},
   "outputs": [],
   "source": [
    "from sklearn.preprocessing import MinMaxScaler\n",
    "\n",
    "# Scale the data\n",
    "scaler = MinMaxScaler()\n",
    "x_train_scaled = scaler.fit_transform(x_train)\n",
    "x_test_scaled = scaler.transform(x_test)\n",
    "\n",
    "# Reshape y_train to a 1D array\n",
    "y_train = y_train.squeeze()\n",
    "\n",
    "# Increase the number of iterations for Logistic Regression\n",
    "models[\"Logistic Regression\"] = LogisticRegression(max_iter=1000)\n",
    "\n",
    "# Apply other metrics like classification report which gives precision, recall, f1-score and support for each class in the target variable to check the efficiency of the model\n",
    "with open('output.txt', 'w') as f:\n",
    "    for model_name, model in models.items():\n",
    "        model.fit(x_train_scaled, y_train)\n",
    "        pred = model.predict(x_test_scaled)\n",
    "        f.write(f\"Metrics for {model_name}:\\n\")\n",
    "        f.write(classification_report(y_test, pred, zero_division=1))"
   ]
  },
  {
   "cell_type": "markdown",
   "metadata": {},
   "source": [
    "### output.txt:\n",
    "Metrics for Random Forest Classifier:\n",
    "              precision    recall  f1-score   support\n",
    "\n",
    "           0       0.79      0.94      0.86        87\n",
    "           1       0.74      0.39      0.51        36\n",
    "\n",
    "    accuracy                           0.78       123\n",
    "   macro avg       0.76      0.67      0.68       123\n",
    "weighted avg       0.77      0.78      0.76       123\n",
    "Metrics for K Nearest Neighbors:\n",
    "              precision    recall  f1-score   support\n",
    "\n",
    "           0       0.78      0.92      0.85        87\n",
    "           1       0.67      0.39      0.49        36\n",
    "\n",
    "    accuracy                           0.76       123\n",
    "   macro avg       0.73      0.65      0.67       123\n",
    "weighted avg       0.75      0.76      0.74       123\n",
    "Metrics for Multinomial NB:\n",
    "              precision    recall  f1-score   support\n",
    "\n",
    "           0       0.71      1.00      0.83        87\n",
    "           1       1.00      0.00      0.00        36\n",
    "\n",
    "    accuracy                           0.71       123\n",
    "   macro avg       0.85      0.50      0.41       123\n",
    "weighted avg       0.79      0.71      0.59       123\n",
    "Metrics for Gaussian NB:\n",
    "              precision    recall  f1-score   support\n",
    "\n",
    "           0       0.78      0.97      0.86        87\n",
    "           1       0.80      0.33      0.47        36\n",
    "\n",
    "    accuracy                           0.78       123\n",
    "   macro avg       0.79      0.65      0.67       123\n",
    "weighted avg       0.78      0.78      0.75       123\n",
    "Metrics for Logistic Regression:\n",
    "              precision    recall  f1-score   support\n",
    "\n",
    "           0       0.78      0.99      0.87        87\n",
    "           1       0.92      0.33      0.49        36\n",
    "\n",
    "    accuracy                           0.80       123\n",
    "   macro avg       0.85      0.66      0.68       123\n",
    "weighted avg       0.82      0.80      0.76       123\n",
    "Metrics for Decision Tree Classifier:\n",
    "              precision    recall  f1-score   support\n",
    "\n",
    "           0       0.80      0.80      0.80        87\n",
    "           1       0.53      0.53      0.53        36\n",
    "\n",
    "    accuracy                           0.72       123\n",
    "   macro avg       0.67      0.67      0.67       123\n",
    "weighted avg       0.72      0.72      0.72       123\n"
   ]
  },
  {
   "cell_type": "code",
   "execution_count": 137,
   "metadata": {},
   "outputs": [],
   "source": [
    "# 7b. Based on the derived metrics find Random Forest Classifier model a better choice accordingly proceeding with pickling this as the final model\n",
    "\n",
    "import pickle\n",
    "\n",
    "# Assuming 'random_forest_model' is your trained Random Forest model\n",
    "with open('random_forest_model.pkl', 'wb') as file:\n",
    "    pickle.dump(models['Random Forest Classifier'], file)"
   ]
  },
  {
   "cell_type": "code",
   "execution_count": 138,
   "metadata": {},
   "outputs": [
    {
     "name": "stdout",
     "output_type": "stream",
     "text": [
      "Accuracy: 0.7886178861788617\n"
     ]
    }
   ],
   "source": [
    "import pickle\n",
    "from sklearn.metrics import accuracy_score\n",
    "\n",
    "# Load the model from the pickle file\n",
    "with open('random_forest_model.pkl', 'rb') as file:\n",
    "    model = pickle.load(file)\n",
    "\n",
    "# Assuming x_test_scaled and y_test are your test data and labels\n",
    "predictions = model.predict(x_test_scaled)\n",
    "\n",
    "# Print the accuracy of the model on the test data\n",
    "print(\"Accuracy:\", accuracy_score(y_test, predictions))"
   ]
  },
  {
   "cell_type": "code",
   "execution_count": 139,
   "metadata": {},
   "outputs": [],
   "source": [
    "import pickle\n",
    "\n",
    "# Assuming 'logistic_regression_model' is your trained Logistic Regression model\n",
    "with open('logistic_regression_model.pkl', 'wb') as file:\n",
    "    pickle.dump('Logistic Regression', file)"
   ]
  },
  {
   "cell_type": "code",
   "execution_count": 140,
   "metadata": {},
   "outputs": [
    {
     "name": "stdout",
     "output_type": "stream",
     "text": [
      "Logistic Regression\n"
     ]
    }
   ],
   "source": [
    "import pickle\n",
    "\n",
    "with open('logistic_regression_model.pkl', 'rb') as file:\n",
    "    model = pickle.load(file)\n",
    "\n",
    "print(model)"
   ]
  },
  {
   "cell_type": "code",
   "execution_count": 141,
   "metadata": {},
   "outputs": [],
   "source": [
    "from sklearn.preprocessing import StandardScaler\n",
    "from sklearn.linear_model import LogisticRegression\n",
    "import pickle\n",
    "\n",
    "# Scale the data\n",
    "scaler = StandardScaler()\n",
    "x_train_scaled = scaler.fit_transform(x_train)\n",
    "\n",
    "# Train your Logistic Regression model with increased max_iter\n",
    "logistic_regression_model = LogisticRegression(max_iter=1000).fit(x_train_scaled, y_train)\n",
    "\n",
    "# Save the trained model to a pickle file\n",
    "with open('logistic_regression_model.pkl', 'wb') as file:\n",
    "    pickle.dump(logistic_regression_model, file)"
   ]
  },
  {
   "cell_type": "code",
   "execution_count": 142,
   "metadata": {},
   "outputs": [
    {
     "name": "stdout",
     "output_type": "stream",
     "text": [
      "[1 1 1 1 1 0 1 1 1 0 0 0 0 1 0 1 0 1 1 0 1 0 1 1 1 1 0 0 1 1 0 0 1 0 1 1 1\n",
      " 1 0 1 0 1 1 0 0 0 0 1 0 1 0 1 0 0 0 1 0 1 1 0 1 1 1 0 1 0 1 1 0 0 0 1 1 0\n",
      " 1 0 1 1 1 0 0 1 0 0 1 0 1 1 1 0 0 0 1 1 1 0 1 1 1 1 0 0 0 0 0 0 1 1 0 1 0\n",
      " 0 1 0 1 1 1 1 1 1 1 0 0]\n",
      "y_test      loan_status\n",
      "285            0\n",
      "323            0\n",
      "482            0\n",
      "173            0\n",
      "518            1\n",
      "..           ...\n",
      "554            1\n",
      "6              0\n",
      "242            0\n",
      "192            1\n",
      "157            0\n",
      "\n",
      "[123 rows x 1 columns]\n",
      "model LogisticRegression(max_iter=1000)\n",
      "Accuracy: 0.4959349593495935\n"
     ]
    }
   ],
   "source": [
    "import pickle\n",
    "\n",
    "# Load the model from the pickle file\n",
    "with open('logistic_regression_model.pkl', 'rb') as file:\n",
    "    model = pickle.load(file)\n",
    "\n",
    "# Assuming x_test is a pandas DataFrame\n",
    "x_test_values = x_test.values\n",
    "\n",
    "# Use the model to make predictions\n",
    "predictions = model.predict(x_test_values)\n",
    "print(predictions)\n",
    "print('y_test',y_test)\n",
    "print(\"model\",model)\n",
    "print(\"Accuracy:\", accuracy_score(y_test, predictions))"
   ]
  },
  {
   "cell_type": "code",
   "execution_count": 143,
   "metadata": {},
   "outputs": [
    {
     "name": "stdout",
     "output_type": "stream",
     "text": [
      "Accuracy: 0.7886178861788617\n",
      "model RandomForestClassifier()\n",
      "predictions [0 0 0 0 0 0 1 0 0 0 0 0 0 0 1 0 0 0 0 0 0 0 0 1 0 0 0 0 0 0 0 0 0 1 0 0 0\n",
      " 0 0 0 0 0 0 0 0 0 0 0 1 0 0 0 0 0 1 0 1 1 0 0 0 0 0 0 0 0 0 0 0 0 0 0 0 1\n",
      " 0 0 0 0 1 0 0 1 0 0 0 0 1 0 1 0 0 0 0 0 0 0 0 0 1 0 0 0 0 0 0 0 0 0 0 0 0\n",
      " 1 0 0 0 0 0 0 1 0 0 0 0]\n",
      "y_test      loan_status\n",
      "285            0\n",
      "323            0\n",
      "482            0\n",
      "173            0\n",
      "518            1\n",
      "..           ...\n",
      "554            1\n",
      "6              0\n",
      "242            0\n",
      "192            1\n",
      "157            0\n",
      "\n",
      "[123 rows x 1 columns]\n"
     ]
    }
   ],
   "source": [
    "import pickle\n",
    "from sklearn.metrics import accuracy_score\n",
    "\n",
    "# Load the model from the pickle file\n",
    "with open('random_forest_model.pkl', 'rb') as file:\n",
    "    model = pickle.load(file)\n",
    "\n",
    "# Assuming x_test_scaled and y_test are your test data and labels\n",
    "predictions = model.predict(x_test_scaled)\n",
    "\n",
    "# Print the accuracy of the model on the test data\n",
    "print(\"Accuracy:\", accuracy_score(y_test, predictions)) # Accuracy of the model on the test data\n",
    "print(\"model\",model) # \n",
    "print(\"predictions\",predictions) # Predicted values of the model on the test data ie. x_test\n",
    "print(\"y_test\",y_test)"
   ]
  },
  {
   "cell_type": "markdown",
   "metadata": {},
   "source": [
    "Will be proceeding further with random_forest_model.pkl"
   ]
  },
  {
   "cell_type": "code",
   "execution_count": 144,
   "metadata": {},
   "outputs": [
    {
     "name": "stdout",
     "output_type": "stream",
     "text": [
      "<class 'pandas.core.frame.DataFrame'>\n",
      "RangeIndex: 614 entries, 0 to 613\n",
      "Data columns (total 11 columns):\n",
      " #   Column             Non-Null Count  Dtype  \n",
      "---  ------             --------------  -----  \n",
      " 0   dependents         614 non-null    float64\n",
      " 1   applicantincome    614 non-null    float64\n",
      " 2   coapplicantincome  614 non-null    float64\n",
      " 3   loanamount         614 non-null    float64\n",
      " 4   loan_amount_term   614 non-null    float64\n",
      " 5   credit_history     614 non-null    float64\n",
      " 6   gender             614 non-null    int32  \n",
      " 7   married            614 non-null    int32  \n",
      " 8   education          614 non-null    int32  \n",
      " 9   self_employed      614 non-null    int32  \n",
      " 10  property_area      614 non-null    int32  \n",
      "dtypes: float64(6), int32(5)\n",
      "memory usage: 40.9 KB\n",
      "None\n",
      "<class 'pandas.core.frame.DataFrame'>\n",
      "RangeIndex: 614 entries, 0 to 613\n",
      "Data columns (total 1 columns):\n",
      " #   Column       Non-Null Count  Dtype\n",
      "---  ------       --------------  -----\n",
      " 0   loan_status  614 non-null    int32\n",
      "dtypes: int32(1)\n",
      "memory usage: 2.5 KB\n",
      "None\n"
     ]
    }
   ],
   "source": [
    "print(data.info())\n",
    "print(target.info())"
   ]
  },
  {
   "cell_type": "code",
   "execution_count": 149,
   "metadata": {},
   "outputs": [
    {
     "name": "stdout",
     "output_type": "stream",
     "text": [
      "Prediction: [0]\n"
     ]
    }
   ],
   "source": [
    "# Test prediction using the trained model\n",
    "# Load the model from the pickle file\n",
    "with open('random_forest_model.pkl', 'rb') as file:\n",
    "    model = pickle.load(file)\n",
    "\n",
    "# Define the inputs and the values to be in standardized format\n",
    "inputs = np.array([[1, 1, 1, 0, 0, 22, 12, 44, 22, 1, 0]])  # The order of inputs should match the order of features the model was trained on ie. gender, married, dependents, education, self_employed, applicant_income, coapplicant_income, loan_amount, loan_amount_term, credit_history, property_area\n",
    "\n",
    "# Use the model to make a prediction\n",
    "prediction = model.predict(inputs)\n",
    "\n",
    "print(\"Prediction:\", prediction)"
   ]
  },
  {
   "cell_type": "code",
   "execution_count": 150,
   "metadata": {},
   "outputs": [
    {
     "name": "stdout",
     "output_type": "stream",
     "text": [
      "Prediction: [1]\n"
     ]
    }
   ],
   "source": [
    "# Test prediction using the trained model\n",
    "# Load the model from the pickle file\n",
    "with open('random_forest_model.pkl', 'rb') as file:\n",
    "    model = pickle.load(file)\n",
    "\n",
    "# Define the inputs and the values to be in standardized format\n",
    "inputs = np.array([[0, 1, 1, 0, 0, 22, 12, 44, 22, 1, 0]])  # The order of inputs should match the order of features the model was trained on ie. gender, married, dependents, education, self_employed, applicant_income, coapplicant_income, loan_amount, loan_amount_term, credit_history, property_area\n",
    "\n",
    "# Use the model to make a prediction\n",
    "prediction = model.predict(inputs)\n",
    "\n",
    "print(\"Prediction:\", prediction)"
   ]
  },
  {
   "cell_type": "code",
   "execution_count": 151,
   "metadata": {},
   "outputs": [
    {
     "name": "stdout",
     "output_type": "stream",
     "text": [
      "Prediction: [0]\n"
     ]
    },
    {
     "name": "stderr",
     "output_type": "stream",
     "text": [
      "c:\\Users\\nhari\\anaconda3\\Lib\\site-packages\\sklearn\\base.py:486: UserWarning: X has feature names, but RandomForestClassifier was fitted without feature names\n",
      "  warnings.warn(\n"
     ]
    }
   ],
   "source": [
    "# Define the inputs in the same format as in the Flask application\n",
    "inputs = {\n",
    "    \"gender\": 1,  # \"Male\"\n",
    "    \"married\": 1,  # \"Yes\"\n",
    "    \"dependents\": 1,\n",
    "    \"education\": 0,  # \"Graduate\"\n",
    "    \"self_employed\": 0,  # \"No\"\n",
    "    \"applicant_income\": 22,\n",
    "    \"coapplicant_income\": 12,\n",
    "    \"loan_amount\": 44,\n",
    "    \"loan_amount_term\": 22,\n",
    "    \"credit_history\": 1,\n",
    "    \"property_area\": 0,  # \"Rural\"\n",
    "}\n",
    "\n",
    "# Convert the inputs to a pandas DataFrame\n",
    "df = pd.DataFrame(inputs, index=[0])\n",
    "\n",
    "# Use the model to make a prediction\n",
    "prediction = model.predict(df)\n",
    "\n",
    "print(\"Prediction:\", prediction)"
   ]
  },
  {
   "cell_type": "markdown",
   "metadata": {},
   "source": [
    "Next app.py"
   ]
  }
 ],
 "metadata": {
  "kernelspec": {
   "display_name": "Python 3",
   "language": "python",
   "name": "python3"
  },
  "language_info": {
   "codemirror_mode": {
    "name": "ipython",
    "version": 3
   },
   "file_extension": ".py",
   "mimetype": "text/x-python",
   "name": "python",
   "nbconvert_exporter": "python",
   "pygments_lexer": "ipython3",
   "version": "3.11.5"
  }
 },
 "nbformat": 4,
 "nbformat_minor": 2
}
